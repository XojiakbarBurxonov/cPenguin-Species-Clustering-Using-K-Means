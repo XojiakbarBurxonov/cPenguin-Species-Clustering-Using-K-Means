{
 "cells": [
  {
   "cell_type": "markdown",
   "id": "589fe37e-e764-4d71-9c3c-93c8b7acee79",
   "metadata": {},
   "source": [
    "![Alt text](https://imgur.com/orZWHly.png=80)\n",
    "source: @allison_horst https://github.com/allisonhorst/penguins"
   ]
  },
  {
   "cell_type": "markdown",
   "id": "d3fb84f2-0eda-4b73-95c0-5364f83e25bf",
   "metadata": {},
   "source": [
    "You have been asked to support a team of researchers who have been collecting data about penguins in Antartica! The data is available in csv-Format as `penguins.csv`\n",
    "\n",
    "**Origin of this data** : Data were collected and made available by Dr. Kristen Gorman and the Palmer Station, Antarctica LTER, a member of the Long Term Ecological Research Network.\n",
    "\n",
    "**The dataset consists of 5 columns.**\n",
    "\n",
    "Column | Description\n",
    "--- | ---\n",
    "culmen_length_mm | culmen length (mm)\n",
    "culmen_depth_mm | culmen depth (mm)\n",
    "flipper_length_mm | flipper length (mm)\n",
    "body_mass_g | body mass (g)\n",
    "sex | penguin sex\n",
    "\n",
    "Unfortunately, they have not been able to record the species of penguin, but they know that there are **at least three** species that are native to the region: **Adelie**, **Chinstrap**, and **Gentoo**.  Your task is to apply your data science skills to help them identify groups in the dataset!"
   ]
  },
  {
   "cell_type": "code",
   "execution_count": 41,
   "id": "57295d13-5753-4f8d-aa96-cd6815f7cbd9",
   "metadata": {
    "executionCancelledAt": null,
    "executionTime": 24,
    "lastExecutedAt": 1717157062256,
    "lastExecutedByKernel": "58942c8c-0534-4896-9aa9-4b6e1191a459",
    "lastScheduledRunId": null,
    "lastSuccessfullyExecutedCode": "# Import Required Packages\nimport pandas as pd\nimport matplotlib.pyplot as plt\n\nfrom sklearn.cluster import KMeans\nfrom sklearn.preprocessing import StandardScaler\n\n# Loading and examining the dataset\npenguins_df = pd.read_csv(\"penguins.csv\")\npenguins_df.head()",
    "outputsMetadata": {
     "0": {
      "height": 194,
      "type": "dataFrame"
     }
    }
   },
   "outputs": [
    {
     "data": {
      "text/html": [
       "<div>\n",
       "<style scoped>\n",
       "    .dataframe tbody tr th:only-of-type {\n",
       "        vertical-align: middle;\n",
       "    }\n",
       "\n",
       "    .dataframe tbody tr th {\n",
       "        vertical-align: top;\n",
       "    }\n",
       "\n",
       "    .dataframe thead th {\n",
       "        text-align: right;\n",
       "    }\n",
       "</style>\n",
       "<table border=\"1\" class=\"dataframe\">\n",
       "  <thead>\n",
       "    <tr style=\"text-align: right;\">\n",
       "      <th></th>\n",
       "      <th>culmen_length_mm</th>\n",
       "      <th>culmen_depth_mm</th>\n",
       "      <th>flipper_length_mm</th>\n",
       "      <th>body_mass_g</th>\n",
       "      <th>sex</th>\n",
       "    </tr>\n",
       "  </thead>\n",
       "  <tbody>\n",
       "    <tr>\n",
       "      <th>0</th>\n",
       "      <td>39.1</td>\n",
       "      <td>18.7</td>\n",
       "      <td>181.0</td>\n",
       "      <td>3750.0</td>\n",
       "      <td>MALE</td>\n",
       "    </tr>\n",
       "    <tr>\n",
       "      <th>1</th>\n",
       "      <td>39.5</td>\n",
       "      <td>17.4</td>\n",
       "      <td>186.0</td>\n",
       "      <td>3800.0</td>\n",
       "      <td>FEMALE</td>\n",
       "    </tr>\n",
       "    <tr>\n",
       "      <th>2</th>\n",
       "      <td>40.3</td>\n",
       "      <td>18.0</td>\n",
       "      <td>195.0</td>\n",
       "      <td>3250.0</td>\n",
       "      <td>FEMALE</td>\n",
       "    </tr>\n",
       "    <tr>\n",
       "      <th>3</th>\n",
       "      <td>36.7</td>\n",
       "      <td>19.3</td>\n",
       "      <td>193.0</td>\n",
       "      <td>3450.0</td>\n",
       "      <td>FEMALE</td>\n",
       "    </tr>\n",
       "    <tr>\n",
       "      <th>4</th>\n",
       "      <td>39.3</td>\n",
       "      <td>20.6</td>\n",
       "      <td>190.0</td>\n",
       "      <td>3650.0</td>\n",
       "      <td>MALE</td>\n",
       "    </tr>\n",
       "  </tbody>\n",
       "</table>\n",
       "</div>"
      ],
      "text/plain": [
       "   culmen_length_mm  culmen_depth_mm  flipper_length_mm  body_mass_g     sex\n",
       "0              39.1             18.7              181.0       3750.0    MALE\n",
       "1              39.5             17.4              186.0       3800.0  FEMALE\n",
       "2              40.3             18.0              195.0       3250.0  FEMALE\n",
       "3              36.7             19.3              193.0       3450.0  FEMALE\n",
       "4              39.3             20.6              190.0       3650.0    MALE"
      ]
     },
     "execution_count": 41,
     "metadata": {},
     "output_type": "execute_result"
    }
   ],
   "source": [
    "# Import Required Packages\n",
    "import pandas as pd\n",
    "import matplotlib.pyplot as plt\n",
    "from sklearn.cluster import KMeans\n",
    "from sklearn.preprocessing import StandardScaler\n",
    "\n",
    "# Loading and examining the dataset\n",
    "penguins_df = pd.read_csv(\"penguins.csv\")\n",
    "penguins_df.head()"
   ]
  },
  {
   "cell_type": "markdown",
   "id": "9fe7970f-edbe-41b0-bdc6-2e13608e57f7",
   "metadata": {},
   "source": [
    "## Project Instructions"
   ]
  },
  {
   "cell_type": "markdown",
   "id": "9c761dbe-336d-4e92-a059-a64f974eb31a",
   "metadata": {},
   "source": [
    "### Utilize your unsupervised learning skills to clusters in the penguins dataset!\n",
    "\n",
    "    - Import, investigate and pre-process the \"𝐩𝐞𝐧𝐠𝐮𝐢𝐧𝐬.𝐜𝐬𝐯\" dataset.\n",
    "    - Perform a cluster analysis based on a reasonable number of clusters and collect the average values for the clusters. \n",
    "    - The output should be a DataFrame named 𝐬𝐭𝐚𝐭_𝐩𝐞𝐧𝐠𝐮𝐢𝐧𝐬 with one row per cluster that shows 𝒕𝒉𝒆 𝒎𝒆𝒂𝒏 𝒐𝒇 𝒕𝒉𝒆 𝒐𝒓𝒊𝒈𝒊𝒏𝒂𝒍 𝒗𝒂𝒓𝒊𝒂𝒃𝒍𝒆𝒔 - (𝒐𝒓 𝒄𝒐𝒍𝒖𝒎𝒏𝒔 𝒊𝒏 \"𝒑𝒆𝒏𝒈𝒖𝒊𝒏𝒔.𝒄𝒔𝒗\") 𝒃𝒚 𝒄𝒍𝒖𝒔𝒕𝒆𝒓.  𝒔𝒕𝒂𝒕_𝒑𝒆𝒏𝒈𝒖𝒊𝒏𝒔 𝒔𝒉𝒐𝒖𝒍𝒅 𝒏𝒐𝒕 𝒊𝒏𝒄𝒍𝒖𝒅𝒆 𝒂𝒏𝒚 𝒏𝒐𝒏-𝒏𝒖𝒎𝒆𝒓𝒊𝒄 𝒄𝒐𝒍𝒖𝒎𝒏𝒔."
   ]
  },
  {
   "cell_type": "code",
   "execution_count": 42,
   "id": "c17ae58c-a847-4936-8b7c-b1cdc36dc6a6",
   "metadata": {},
   "outputs": [
    {
     "name": "stdout",
     "output_type": "stream",
     "text": [
      "<class 'pandas.core.frame.DataFrame'>\n",
      "RangeIndex: 332 entries, 0 to 331\n",
      "Data columns (total 5 columns):\n",
      " #   Column             Non-Null Count  Dtype  \n",
      "---  ------             --------------  -----  \n",
      " 0   culmen_length_mm   332 non-null    float64\n",
      " 1   culmen_depth_mm    332 non-null    float64\n",
      " 2   flipper_length_mm  332 non-null    float64\n",
      " 3   body_mass_g        332 non-null    float64\n",
      " 4   sex                332 non-null    object \n",
      "dtypes: float64(4), object(1)\n",
      "memory usage: 13.1+ KB\n"
     ]
    }
   ],
   "source": [
    "penguins_df.info()"
   ]
  },
  {
   "cell_type": "code",
   "execution_count": 43,
   "id": "08a0f666-3415-48c5-9528-b30fd59fd307",
   "metadata": {},
   "outputs": [
    {
     "data": {
      "text/plain": [
       "culmen_length_mm     0\n",
       "culmen_depth_mm      0\n",
       "flipper_length_mm    0\n",
       "body_mass_g          0\n",
       "sex                  0\n",
       "dtype: int64"
      ]
     },
     "execution_count": 43,
     "metadata": {},
     "output_type": "execute_result"
    }
   ],
   "source": [
    "penguins_df.isna().sum()"
   ]
  },
  {
   "cell_type": "code",
   "execution_count": 44,
   "id": "7045cec9-73fa-4ba1-861a-407bc039feb8",
   "metadata": {},
   "outputs": [],
   "source": [
    "samples = penguins_df.copy()"
   ]
  },
  {
   "cell_type": "code",
   "execution_count": 46,
   "id": "5a6dcb9a-6417-4f67-b96a-89da799e9b50",
   "metadata": {},
   "outputs": [
    {
     "data": {
      "text/html": [
       "<div>\n",
       "<style scoped>\n",
       "    .dataframe tbody tr th:only-of-type {\n",
       "        vertical-align: middle;\n",
       "    }\n",
       "\n",
       "    .dataframe tbody tr th {\n",
       "        vertical-align: top;\n",
       "    }\n",
       "\n",
       "    .dataframe thead th {\n",
       "        text-align: right;\n",
       "    }\n",
       "</style>\n",
       "<table border=\"1\" class=\"dataframe\">\n",
       "  <thead>\n",
       "    <tr style=\"text-align: right;\">\n",
       "      <th></th>\n",
       "      <th>culmen_length_mm</th>\n",
       "      <th>culmen_depth_mm</th>\n",
       "      <th>flipper_length_mm</th>\n",
       "      <th>body_mass_g</th>\n",
       "      <th>sex</th>\n",
       "    </tr>\n",
       "  </thead>\n",
       "  <tbody>\n",
       "    <tr>\n",
       "      <th>0</th>\n",
       "      <td>39.1</td>\n",
       "      <td>18.7</td>\n",
       "      <td>181.0</td>\n",
       "      <td>3750.0</td>\n",
       "      <td>1</td>\n",
       "    </tr>\n",
       "    <tr>\n",
       "      <th>1</th>\n",
       "      <td>39.5</td>\n",
       "      <td>17.4</td>\n",
       "      <td>186.0</td>\n",
       "      <td>3800.0</td>\n",
       "      <td>0</td>\n",
       "    </tr>\n",
       "    <tr>\n",
       "      <th>2</th>\n",
       "      <td>40.3</td>\n",
       "      <td>18.0</td>\n",
       "      <td>195.0</td>\n",
       "      <td>3250.0</td>\n",
       "      <td>0</td>\n",
       "    </tr>\n",
       "    <tr>\n",
       "      <th>3</th>\n",
       "      <td>36.7</td>\n",
       "      <td>19.3</td>\n",
       "      <td>193.0</td>\n",
       "      <td>3450.0</td>\n",
       "      <td>0</td>\n",
       "    </tr>\n",
       "    <tr>\n",
       "      <th>4</th>\n",
       "      <td>39.3</td>\n",
       "      <td>20.6</td>\n",
       "      <td>190.0</td>\n",
       "      <td>3650.0</td>\n",
       "      <td>1</td>\n",
       "    </tr>\n",
       "  </tbody>\n",
       "</table>\n",
       "</div>"
      ],
      "text/plain": [
       "   culmen_length_mm  culmen_depth_mm  flipper_length_mm  body_mass_g  sex\n",
       "0              39.1             18.7              181.0       3750.0    1\n",
       "1              39.5             17.4              186.0       3800.0    0\n",
       "2              40.3             18.0              195.0       3250.0    0\n",
       "3              36.7             19.3              193.0       3450.0    0\n",
       "4              39.3             20.6              190.0       3650.0    1"
      ]
     },
     "execution_count": 46,
     "metadata": {},
     "output_type": "execute_result"
    }
   ],
   "source": [
    "samples['sex'] = samples['sex'].replace({\"MALE\":1,\"FEMALE\":0})\n",
    "samples.head()"
   ]
  },
  {
   "cell_type": "code",
   "execution_count": 47,
   "id": "64f36d06-0ce4-4d33-8889-d27686b99605",
   "metadata": {},
   "outputs": [
    {
     "data": {
      "text/plain": [
       "(332, 5)"
      ]
     },
     "execution_count": 47,
     "metadata": {},
     "output_type": "execute_result"
    }
   ],
   "source": [
    "samples.shape"
   ]
  },
  {
   "cell_type": "code",
   "execution_count": 48,
   "id": "4d85248a-94d1-41ff-bab8-2a3b807380fe",
   "metadata": {},
   "outputs": [
    {
     "data": {
      "text/plain": [
       "array([[-0.90390586,  0.79035987, -1.42534179, -0.56694801,  0.99399394],\n",
       "       [-0.83043377,  0.12618674, -1.0685765 , -0.50484747, -1.00604235],\n",
       "       [-0.68348959,  0.43272819, -0.42639899, -1.18795343, -1.00604235],\n",
       "       ...,\n",
       "       [ 1.17168063, -0.74234736,  1.50013355,  1.91707363,  0.99399394],\n",
       "       [ 0.21654349, -1.20215952,  0.78660298,  1.23396768, -1.00604235],\n",
       "       [ 1.07984052, -0.53798639,  0.85795603,  1.48236985,  0.99399394]],\n",
       "      shape=(332, 5))"
      ]
     },
     "execution_count": 48,
     "metadata": {},
     "output_type": "execute_result"
    }
   ],
   "source": [
    "from sklearn.preprocessing import StandardScaler\n",
    "scaler = StandardScaler()\n",
    "scaled_samples = scaler.fit_transform(samples)\n",
    "scaled_samples"
   ]
  },
  {
   "cell_type": "code",
   "execution_count": 49,
   "id": "2f52d2eb-f1d9-4cea-bee3-913cd1127262",
   "metadata": {},
   "outputs": [
    {
     "data": {
      "image/png": "[encoded data removed]",
      "text/plain": [
       "<Figure size 640x480 with 1 Axes>"
      ]
     },
     "metadata": {},
     "output_type": "display_data"
    }
   ],
   "source": [
    "ks = range(1,10)\n",
    "inertias = []\n",
    "for k in ks:\n",
    "     # Create a KMeans instance with k clusters: model\n",
    "    model = KMeans(n_clusters = k)\n",
    "    \n",
    "    # Fit model to samples\n",
    "    model.fit(scaled_samples)\n",
    "\n",
    "     # Append the inertia to the list of inertias\n",
    "    inertias.append(model.inertia_)\n",
    "\n",
    "# Plot ks vs inertias\n",
    "plt.plot(ks, inertias, '-o')\n",
    "plt.xlabel('number of clusters, k')\n",
    "plt.ylabel('inertia')\n",
    "plt.xticks(ks)\n",
    "plt.show()\n"
   ]
  },
  {
   "cell_type": "markdown",
   "id": "3def47bb-010a-4a7d-83bd-39b05d9cda79",
   "metadata": {},
   "source": [
    "From the graph, the inertia drops steeply until around 𝑘 = 3 or 𝑘 = 4, after which the decrease becomes more gradual.\n",
    "The \"elbow\" appears to be at 𝑘 = 3 or 𝑘 = 4, making either a reasonable choice for 𝒏_𝒄𝒍𝒖𝒔𝒕𝒆𝒓𝒔."
   ]
  },
  {
   "cell_type": "code",
   "execution_count": 52,
   "id": "29bdc2ae-5613-482c-ad8f-b3951dd084d8",
   "metadata": {},
   "outputs": [],
   "source": [
    "# Create a KMeans model with 3 clusters: model\n",
    "model = KMeans(n_clusters = 3)\n",
    "\n",
    "# Use fit_predict to fit model and obtain cluster labels: labels\n",
    "model.fit(samples)\n",
    "\n",
    "labels = model.predict(samples)"
   ]
  },
  {
   "cell_type": "code",
   "execution_count": 53,
   "id": "991769ca-a5b0-4905-a8f6-d342e728737a",
   "metadata": {},
   "outputs": [
    {
     "data": {
      "text/plain": [
       "['culmen_length_mm', 'culmen_depth_mm', 'flipper_length_mm', 'body_mass_g']"
      ]
     },
     "execution_count": 53,
     "metadata": {},
     "output_type": "execute_result"
    }
   ],
   "source": [
    "# Create a list containing the names of the numeric (non-binary) columns of penguins_df DataFrame, storing as numeric_columns\n",
    "non_numerical_mask = penguins_df.dtypes=='object'\n",
    "numerical_columns = penguins_df.columns[~non_numerical_mask].to_list()\n",
    "numerical_columns"
   ]
  },
  {
   "cell_type": "code",
   "execution_count": 54,
   "id": "df56bbe9-7fee-4510-a893-a0aa13142222",
   "metadata": {},
   "outputs": [],
   "source": [
    "# Add a new column named label to your dataset, with values equal to the kmeans.labels_ attribute.\n",
    "penguins_df['label']=model.labels_"
   ]
  },
  {
   "cell_type": "code",
   "execution_count": 55,
   "id": "e9bd9808-0f2a-4054-9b38-802597286913",
   "metadata": {},
   "outputs": [
    {
     "data": {
      "text/html": [
       "<div>\n",
       "<style scoped>\n",
       "    .dataframe tbody tr th:only-of-type {\n",
       "        vertical-align: middle;\n",
       "    }\n",
       "\n",
       "    .dataframe tbody tr th {\n",
       "        vertical-align: top;\n",
       "    }\n",
       "\n",
       "    .dataframe thead th {\n",
       "        text-align: right;\n",
       "    }\n",
       "</style>\n",
       "<table border=\"1\" class=\"dataframe\">\n",
       "  <thead>\n",
       "    <tr style=\"text-align: right;\">\n",
       "      <th></th>\n",
       "      <th>culmen_length_mm</th>\n",
       "      <th>culmen_depth_mm</th>\n",
       "      <th>flipper_length_mm</th>\n",
       "      <th>body_mass_g</th>\n",
       "      <th>sex</th>\n",
       "      <th>label</th>\n",
       "    </tr>\n",
       "  </thead>\n",
       "  <tbody>\n",
       "    <tr>\n",
       "      <th>0</th>\n",
       "      <td>39.1</td>\n",
       "      <td>18.7</td>\n",
       "      <td>181.0</td>\n",
       "      <td>3750.0</td>\n",
       "      <td>MALE</td>\n",
       "      <td>0</td>\n",
       "    </tr>\n",
       "    <tr>\n",
       "      <th>1</th>\n",
       "      <td>39.5</td>\n",
       "      <td>17.4</td>\n",
       "      <td>186.0</td>\n",
       "      <td>3800.0</td>\n",
       "      <td>FEMALE</td>\n",
       "      <td>0</td>\n",
       "    </tr>\n",
       "    <tr>\n",
       "      <th>2</th>\n",
       "      <td>40.3</td>\n",
       "      <td>18.0</td>\n",
       "      <td>195.0</td>\n",
       "      <td>3250.0</td>\n",
       "      <td>FEMALE</td>\n",
       "      <td>0</td>\n",
       "    </tr>\n",
       "    <tr>\n",
       "      <th>3</th>\n",
       "      <td>36.7</td>\n",
       "      <td>19.3</td>\n",
       "      <td>193.0</td>\n",
       "      <td>3450.0</td>\n",
       "      <td>FEMALE</td>\n",
       "      <td>0</td>\n",
       "    </tr>\n",
       "    <tr>\n",
       "      <th>4</th>\n",
       "      <td>39.3</td>\n",
       "      <td>20.6</td>\n",
       "      <td>190.0</td>\n",
       "      <td>3650.0</td>\n",
       "      <td>MALE</td>\n",
       "      <td>0</td>\n",
       "    </tr>\n",
       "  </tbody>\n",
       "</table>\n",
       "</div>"
      ],
      "text/plain": [
       "   culmen_length_mm  culmen_depth_mm  flipper_length_mm  body_mass_g     sex  \\\n",
       "0              39.1             18.7              181.0       3750.0    MALE   \n",
       "1              39.5             17.4              186.0       3800.0  FEMALE   \n",
       "2              40.3             18.0              195.0       3250.0  FEMALE   \n",
       "3              36.7             19.3              193.0       3450.0  FEMALE   \n",
       "4              39.3             20.6              190.0       3650.0    MALE   \n",
       "\n",
       "   label  \n",
       "0      0  \n",
       "1      0  \n",
       "2      0  \n",
       "3      0  \n",
       "4      0  "
      ]
     },
     "execution_count": 55,
     "metadata": {},
     "output_type": "execute_result"
    }
   ],
   "source": [
    "penguins_df.head()"
   ]
  },
  {
   "cell_type": "markdown",
   "id": "2020e4c7-6472-4dc7-a1ce-704d6ae9c15f",
   "metadata": {},
   "source": [
    "#### The output should be a DataFrame named stat_penguins with one row per cluster that shows the mean of the original variables (or columns in \"penguins.csv\") by cluster.\n",
    "#### stat_penguins should not include any non-numeric columns."
   ]
  },
  {
   "cell_type": "code",
   "execution_count": 56,
   "id": "8272eeb6-b262-4249-8288-0a946b3ce39d",
   "metadata": {},
   "outputs": [
    {
     "data": {
      "text/html": [
       "<div>\n",
       "<style scoped>\n",
       "    .dataframe tbody tr th:only-of-type {\n",
       "        vertical-align: middle;\n",
       "    }\n",
       "\n",
       "    .dataframe tbody tr th {\n",
       "        vertical-align: top;\n",
       "    }\n",
       "\n",
       "    .dataframe thead th {\n",
       "        text-align: right;\n",
       "    }\n",
       "</style>\n",
       "<table border=\"1\" class=\"dataframe\">\n",
       "  <thead>\n",
       "    <tr style=\"text-align: right;\">\n",
       "      <th></th>\n",
       "      <th>culmen_length_mm</th>\n",
       "      <th>culmen_depth_mm</th>\n",
       "      <th>flipper_length_mm</th>\n",
       "      <th>body_mass_g</th>\n",
       "    </tr>\n",
       "    <tr>\n",
       "      <th>label</th>\n",
       "      <th></th>\n",
       "      <th></th>\n",
       "      <th></th>\n",
       "      <th></th>\n",
       "    </tr>\n",
       "  </thead>\n",
       "  <tbody>\n",
       "    <tr>\n",
       "      <th>0</th>\n",
       "      <td>41.392771</td>\n",
       "      <td>18.062651</td>\n",
       "      <td>190.457831</td>\n",
       "      <td>3536.445783</td>\n",
       "    </tr>\n",
       "    <tr>\n",
       "      <th>1</th>\n",
       "      <td>45.105714</td>\n",
       "      <td>16.588571</td>\n",
       "      <td>205.933333</td>\n",
       "      <td>4513.333333</td>\n",
       "    </tr>\n",
       "    <tr>\n",
       "      <th>2</th>\n",
       "      <td>49.306557</td>\n",
       "      <td>15.649180</td>\n",
       "      <td>221.065574</td>\n",
       "      <td>5501.639344</td>\n",
       "    </tr>\n",
       "  </tbody>\n",
       "</table>\n",
       "</div>"
      ],
      "text/plain": [
       "       culmen_length_mm  culmen_depth_mm  flipper_length_mm  body_mass_g\n",
       "label                                                                   \n",
       "0             41.392771        18.062651         190.457831  3536.445783\n",
       "1             45.105714        16.588571         205.933333  4513.333333\n",
       "2             49.306557        15.649180         221.065574  5501.639344"
      ]
     },
     "execution_count": 56,
     "metadata": {},
     "output_type": "execute_result"
    }
   ],
   "source": [
    "stat_penguins = penguins_df.groupby('label')[numerical_columns].agg('mean')\n",
    "stat_penguins"
   ]
  },
  {
   "cell_type": "code",
   "execution_count": 40,
   "id": "53e99291-351a-4712-b5d1-adb43723cc36",
   "metadata": {},
   "outputs": [
    {
     "data": {
      "text/html": [
       "<div>\n",
       "<style scoped>\n",
       "    .dataframe tbody tr th:only-of-type {\n",
       "        vertical-align: middle;\n",
       "    }\n",
       "\n",
       "    .dataframe tbody tr th {\n",
       "        vertical-align: top;\n",
       "    }\n",
       "\n",
       "    .dataframe thead th {\n",
       "        text-align: right;\n",
       "    }\n",
       "</style>\n",
       "<table border=\"1\" class=\"dataframe\">\n",
       "  <thead>\n",
       "    <tr style=\"text-align: right;\">\n",
       "      <th></th>\n",
       "      <th>culmen_length_mm</th>\n",
       "      <th>culmen_depth_mm</th>\n",
       "      <th>flipper_length_mm</th>\n",
       "      <th>body_mass_g</th>\n",
       "    </tr>\n",
       "    <tr>\n",
       "      <th>label</th>\n",
       "      <th></th>\n",
       "      <th></th>\n",
       "      <th></th>\n",
       "      <th></th>\n",
       "    </tr>\n",
       "  </thead>\n",
       "  <tbody>\n",
       "    <tr>\n",
       "      <th>0</th>\n",
       "      <td>43.502000</td>\n",
       "      <td>18.445000</td>\n",
       "      <td>195.460000</td>\n",
       "      <td>3953.500000</td>\n",
       "    </tr>\n",
       "    <tr>\n",
       "      <th>1</th>\n",
       "      <td>40.375248</td>\n",
       "      <td>17.773267</td>\n",
       "      <td>188.633663</td>\n",
       "      <td>3347.029703</td>\n",
       "    </tr>\n",
       "    <tr>\n",
       "      <th>2</th>\n",
       "      <td>49.674545</td>\n",
       "      <td>15.725455</td>\n",
       "      <td>221.709091</td>\n",
       "      <td>5548.181818</td>\n",
       "    </tr>\n",
       "    <tr>\n",
       "      <th>3</th>\n",
       "      <td>45.457895</td>\n",
       "      <td>15.661842</td>\n",
       "      <td>209.631579</td>\n",
       "      <td>4710.526316</td>\n",
       "    </tr>\n",
       "  </tbody>\n",
       "</table>\n",
       "</div>"
      ],
      "text/plain": [
       "       culmen_length_mm  culmen_depth_mm  flipper_length_mm  body_mass_g\n",
       "label                                                                   \n",
       "0             43.502000        18.445000         195.460000  3953.500000\n",
       "1             40.375248        17.773267         188.633663  3347.029703\n",
       "2             49.674545        15.725455         221.709091  5548.181818\n",
       "3             45.457895        15.661842         209.631579  4710.526316"
      ]
     },
     "execution_count": 40,
     "metadata": {},
     "output_type": "execute_result"
    }
   ],
   "source": [
    "# Summary\n",
    "stat_penguins = penguins_df.groupby('label')[numerical_columns].agg('mean')\n",
    "stat_penguins"
   ]
  },
  {
   "cell_type": "markdown",
   "id": "63a52cba-2ca6-4b60-9cfd-46cb6144dc3e",
   "metadata": {},
   "source": [
    "### Observations:\n",
    "    - 𝐂𝐥𝐮𝐬𝐭𝐞𝐫 𝟎 has the 𝒔𝒎𝒂𝒍𝒍𝒆𝒔𝒕 𝒃𝒐𝒅𝒚 𝒔𝒊𝒛𝒆, 𝒔𝒉𝒐𝒓𝒕𝒆𝒔𝒕 𝒄𝒖𝒍𝒎𝒆𝒏, 𝒂𝒏𝒅 𝒔𝒉𝒐𝒓𝒕𝒆𝒔𝒕 𝒇𝒍𝒊𝒑𝒑𝒆𝒓𝒔, but 𝐭𝐡𝐞 𝐝𝐞𝐞𝐩𝐞𝐬𝐭 𝐜𝐮𝐥𝐦𝐞𝐧 𝐝𝐞𝐩𝐭𝐡—𝐩𝐨𝐬𝐬𝐢𝐛𝐥𝐲 a species adapted for stronger biting.\n",
    "    - 𝐂𝐥𝐮𝐬𝐭𝐞𝐫 𝟏 represents 𝒂 𝒎𝒆𝒅𝒊𝒖𝒎-𝒔𝒊𝒛𝒆𝒅 𝒈𝒓𝒐𝒖𝒑, with moderate measurements across all features.\n",
    "    - 𝐂𝐥𝐮𝐬𝐭𝐞𝐫 𝟐 consists of the 𝒍𝒂𝒓𝒈𝒆𝒔𝒕 𝒊𝒏𝒅𝒊𝒗𝒊𝒅𝒖𝒂𝒍𝒔, 𝒉𝒂𝒗𝒊𝒏𝒈 𝒕𝒉𝒆 𝒍𝒐𝒏𝒈𝒆𝒔𝒕 𝒇𝒍𝒊𝒑𝒑𝒆𝒓𝒔, 𝒍𝒐𝒏𝒈𝒆𝒔𝒕 𝒄𝒖𝒍𝒎𝒆𝒏, 𝒂𝒏𝒅 𝒉𝒆𝒂𝒗𝒊𝒆𝒔𝒕 𝒃𝒐𝒅𝒚 𝒎𝒂𝒔𝒔, indicating 𝒃𝒊𝒈𝒈𝒆𝒓 𝒔𝒑𝒆𝒄𝒊𝒆𝒔."
   ]
  },
  {
   "cell_type": "code",
   "execution_count": null,
   "id": "6fc99f1f-847a-4f85-894d-560a787fe2ba",
   "metadata": {},
   "outputs": [],
   "source": []
  }
 ],
 "metadata": {
  "colab": {
   "name": "Welcome to DataCamp Workspaces.ipynb",
   "provenance": []
  },
  "editor": "DataLab",
  "kernelspec": {
   "display_name": "Python 3 (ipykernel)",
   "language": "python",
   "name": "python3"
  },
  "language_info": {
   "codemirror_mode": {
    "name": "ipython",
    "version": 3
   },
   "file_extension": ".py",
   "mimetype": "text/x-python",
   "name": "python",
   "nbconvert_exporter": "python",
   "pygments_lexer": "ipython3",
   "version": "3.11.5"
  }
 },
 "nbformat": 4,
 "nbformat_minor": 5
}
